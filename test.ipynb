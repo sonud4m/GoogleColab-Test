{
  "nbformat": 4,
  "nbformat_minor": 0,
  "metadata": {
    "colab": {
      "provenance": [],
      "authorship_tag": "ABX9TyPsOtGE39TytsqZuFVJxH3v",
      "include_colab_link": true
    },
    "kernelspec": {
      "name": "python3",
      "display_name": "Python 3"
    },
    "language_info": {
      "name": "python"
    }
  },
  "cells": [
    {
      "cell_type": "markdown",
      "metadata": {
        "id": "view-in-github",
        "colab_type": "text"
      },
      "source": [
        "<a href=\"https://colab.research.google.com/github/sonud4m/GoogleColab-Test/blob/sonud4m/test.ipynb\" target=\"_parent\"><img src=\"https://colab.research.google.com/assets/colab-badge.svg\" alt=\"Open In Colab\"/></a>"
      ]
    },
    {
      "cell_type": "markdown",
      "source": [
        "# 2023.07.02\n"
      ],
      "metadata": {
        "id": "XK4zKuwpWtfW"
      }
    },
    {
      "cell_type": "code",
      "execution_count": 32,
      "metadata": {
        "colab": {
          "base_uri": "https://localhost:8080/"
        },
        "id": "yYEqIArBDTki",
        "outputId": "b13251da-5999-4806-f313-812495c20e39"
      },
      "outputs": [
        {
          "output_type": "stream",
          "name": "stdout",
          "text": [
            "Hello World\n",
            "Hello World\n",
            "['a', 'b', 'c']\n",
            "3\n",
            "['a', 'b', 'c', 'd']\n",
            "['a', 'c', 'd']\n",
            "['a', 'c', 'd', '100', '200']\n",
            "['a', 'c', 'd', '100', '200', '300', '400']\n",
            "['c', 'd', '100']\n"
          ]
        }
      ],
      "source": [
        "print(\"Hello World\")\n",
        "\n",
        "x = \"Hello World\"\n",
        "print(x)\n",
        "\n",
        "#リストを定義\n",
        "list = [\"a\", \"b\", \"c\"]\n",
        "\n",
        "print(list)\n",
        "\n",
        "#リストの要素数を出力\n",
        "print(len(list))\n",
        "\n",
        "#リストに要素を追加\n",
        "list.append(\"d\")\n",
        "print(list)\n",
        "\n",
        "#リストの要素を削除\n",
        "list.remove(\"b\")\n",
        "print(list)\n",
        "\n",
        "#2つのリストを結合(extendの場合)\n",
        "list2 = [\"100\", \"200\"]\n",
        "list.extend(list2)\n",
        "print(list)\n",
        "\n",
        "#2つのリストを結合(+の場合)\n",
        "list3 = [\"300\", \"400\"]\n",
        "newlist = list + list3\n",
        "print(newlist)\n",
        "\n",
        "\n",
        "#リストを分割(インデックス番号で指定)\n",
        "#開始インデックスを指定していない場合は最初の要素から\n",
        "#終了インデックスを指定していない場合は最後の要素まで\n",
        "print(newlist[1:4])\n"
      ]
    },
    {
      "cell_type": "code",
      "source": [
        "#辞書の定義\n",
        "lib = {\"a\":100, \"b\":200, \"c\":300}\n",
        "print(lib)\n",
        "\n",
        "#辞書に要素を追加(要素指定で編集も可能)\n",
        "lib[\"d\"] = 400\n",
        "print(lib)\n",
        "\n",
        "#2つの辞書を結合(updateの場合)\n",
        "lib2 = {\"e\":500, \"f\":600}\n",
        "lib.update(lib2)\n",
        "print(lib)\n",
        "\n",
        "#2つの辞書を結合(バーティカルバーの場合)Phthon3.9以上必須\n",
        "lib3 = {\"g\":700, \"h\":800}\n",
        "newlib = lib | lib3\n",
        "print(newlib)\n",
        "\n",
        "#要素数を取得\n",
        "newlist_len = len(newlist)\n",
        "print(newlist_len)\n"
      ],
      "metadata": {
        "colab": {
          "base_uri": "https://localhost:8080/"
        },
        "id": "6a_XhxZuZXo7",
        "outputId": "4eb1cca7-b0a0-40a3-b16e-09a4ad32a773"
      },
      "execution_count": 41,
      "outputs": [
        {
          "output_type": "stream",
          "name": "stdout",
          "text": [
            "{'a': 100, 'b': 200, 'c': 300}\n",
            "{'a': 100, 'b': 200, 'c': 300, 'd': 400}\n",
            "{'a': 100, 'b': 200, 'c': 300, 'd': 400, 'e': 500, 'f': 600}\n",
            "{'a': 100, 'b': 200, 'c': 300, 'd': 400, 'e': 500, 'f': 600, 'g': 700, 'h': 800}\n",
            "7\n"
          ]
        }
      ]
    }
  ]
}